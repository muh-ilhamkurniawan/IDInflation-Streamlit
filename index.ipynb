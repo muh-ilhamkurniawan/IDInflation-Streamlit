{
 "cells": [
  {
   "cell_type": "code",
   "execution_count": 28,
   "metadata": {},
   "outputs": [
    {
     "name": "stdout",
     "output_type": "stream",
     "text": [
      "Random Forest - MAE: 1.0270735360193142, MSE: 2.7886237238039158, RMSE: 1.6699172805273665, R²: 0.2441113156013911\n"
     ]
    }
   ],
   "source": [
    "import pandas as pd\n",
    "import numpy as np\n",
    "import joblib\n",
    "from sklearn.model_selection import train_test_split\n",
    "from sklearn.ensemble import RandomForestRegressor\n",
    "from sklearn.metrics import mean_absolute_error, mean_squared_error, r2_score\n",
    "\n",
    "# Load the dataset from a CSV file\n",
    "df = pd.read_csv('data_inflasi_indonesia_clean.csv')\n",
    "\n",
    "# Convert 'periode_inflasi' to datetime format\n",
    "df['periode_inflasi'] = pd.to_datetime(df['periode_inflasi'], format='%d/%m/%Y')\n",
    "\n",
    "# Extract year and month from 'periode_inflasi'\n",
    "df['year'] = df['periode_inflasi'].dt.year\n",
    "df['month'] = df['periode_inflasi'].dt.month\n",
    "\n",
    "# Clean 'data_inflasi' to remove '%' and convert to float\n",
    "df['data_inflasi'] = df['data_inflasi'].str.rstrip('%').astype(float)\n",
    "\n",
    "# Update features and target\n",
    "X = df[['year', 'month']]\n",
    "y = df['data_inflasi']\n",
    "\n",
    "# Split the data\n",
    "X_train, X_test, y_train, y_test = train_test_split(X, y, test_size=0.2, random_state=42)\n",
    "\n",
    "# Train the Random Forest model\n",
    "rf_model = RandomForestRegressor(n_estimators=100, random_state=42)\n",
    "rf_model.fit(X_train, y_train)\n",
    "\n",
    "# Save the model\n",
    "joblib.dump(rf_model, 'random_forest_model.pkl')\n",
    "\n",
    "# Load the model\n",
    "loaded_rf_model = joblib.load('random_forest_model.pkl')\n",
    "\n",
    "# Evaluate the model\n",
    "y_pred_rf = loaded_rf_model.predict(X_test)\n",
    "mae_rf = mean_absolute_error(y_test, y_pred_rf)\n",
    "mse_rf = mean_squared_error(y_test, y_pred_rf)\n",
    "rmse_rf = np.sqrt(mse_rf)\n",
    "r2_rf = r2_score(y_test, y_pred_rf)\n",
    "\n",
    "print(f\"Random Forest - MAE: {mae_rf}, MSE: {mse_rf}, RMSE: {rmse_rf}, R²: {r2_rf}\")\n",
    "\n",
    "# Function to predict inflation based on year and month\n",
    "def predict_inflation(year, month):\n",
    "    input_data = pd.DataFrame({'year': [year], 'month': [month]})\n",
    "    prediction = loaded_rf_model.predict(input_data)\n",
    "    return prediction[0]\n",
    "\n"
   ]
  },
  {
   "cell_type": "code",
   "execution_count": 32,
   "metadata": {},
   "outputs": [
    {
     "name": "stdout",
     "output_type": "stream",
     "text": [
      "Predicted inflation for 9/2023: 3.45%\n"
     ]
    }
   ],
   "source": [
    "# Example usage\n",
    "year_to_predict = 2023\n",
    "month_to_predict = 9\n",
    "predicted_inflation = predict_inflation(year_to_predict, month_to_predict)\n",
    "print(f\"Predicted inflation for {month_to_predict}/{year_to_predict}: {predicted_inflation:.2f}%\")\n"
   ]
  }
 ],
 "metadata": {
  "language_info": {
   "name": "python"
  }
 },
 "nbformat": 4,
 "nbformat_minor": 2
}
