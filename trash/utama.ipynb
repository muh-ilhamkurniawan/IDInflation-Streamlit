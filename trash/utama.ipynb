{
 "cells": [
  {
   "cell_type": "code",
   "execution_count": 1,
   "metadata": {},
   "outputs": [
    {
     "data": {
      "text/plain": [
       "['random_forest_model.pkl']"
      ]
     },
     "execution_count": 1,
     "metadata": {},
     "output_type": "execute_result"
    }
   ],
   "source": [
    "import pandas as pd\n",
    "import numpy as np\n",
    "import joblib\n",
    "from sklearn.model_selection import train_test_split\n",
    "from sklearn.ensemble import RandomForestRegressor\n",
    "from sklearn.metrics import mean_absolute_error, mean_squared_error, r2_score\n",
    "\n",
    "# Load the dataset from an Excel file\n",
    "df = pd.read_excel('data_inflasi.xlsx')\n",
    "\n",
    "# Convert 'tanggal' to datetime\n",
    "df['tanggal'] = pd.to_datetime(df['tanggal'])\n",
    "\n",
    "# Extract year and month from 'tanggal'\n",
    "df['year'] = df['tanggal'].dt.year\n",
    "df['month'] = df['tanggal'].dt.month\n",
    "\n",
    "# Update features and target\n",
    "X = df[['year', 'month']]\n",
    "y = df['Data Inflasi (dalam persen)']\n",
    "\n",
    "# Split the data\n",
    "X_train, X_test, y_train, y_test = train_test_split(X, y, test_size=0.2, random_state=42)\n",
    "\n",
    "# Train the Random Forest model\n",
    "rf_model = RandomForestRegressor(n_estimators=100, random_state=42)\n",
    "rf_model.fit(X_train, y_train)\n",
    "\n",
    "# Save the model\n",
    "joblib.dump(rf_model, 'random_forest_model.pkl')\n",
    "\n",
    "\n",
    "\n"
   ]
  },
  {
   "cell_type": "code",
   "execution_count": 2,
   "metadata": {},
   "outputs": [
    {
     "name": "stdout",
     "output_type": "stream",
     "text": [
      "Random Forest - MAE: 0.8468346938775498, MSE: 2.392893033265302, RMSE: 1.5468978742196597, R²: 0.7726196717588758\n"
     ]
    }
   ],
   "source": [
    "# Load the model\n",
    "loaded_rf_model = joblib.load('random_forest_model.pkl')\n",
    "\n",
    "# Evaluate the model\n",
    "y_pred_rf = loaded_rf_model.predict(X_test)\n",
    "mae_rf = mean_absolute_error(y_test, y_pred_rf)\n",
    "mse_rf = mean_squared_error(y_test, y_pred_rf)\n",
    "rmse_rf = np.sqrt(mse_rf)\n",
    "r2_rf = r2_score(y_test, y_pred_rf)\n",
    "\n",
    "print(f\"Random Forest - MAE: {mae_rf}, MSE: {mse_rf}, RMSE: {rmse_rf}, R²: {r2_rf}\")\n",
    "\n",
    "# Function to predict inflation based on year and month\n",
    "def predict_inflation(year, month):\n",
    "    input_data = pd.DataFrame({'year': [year], 'month': [month]})\n",
    "    prediction = loaded_rf_model.predict(input_data)\n",
    "    return prediction[0]"
   ]
  },
  {
   "cell_type": "code",
   "execution_count": 6,
   "metadata": {},
   "outputs": [
    {
     "name": "stdout",
     "output_type": "stream",
     "text": [
      "Predicted inflation for 9/2019: 2.80%\n"
     ]
    }
   ],
   "source": [
    "# Example usage\n",
    "year_to_predict = 2019\n",
    "month_to_predict = 9\n",
    "predicted_inflation = predict_inflation(year_to_predict, month_to_predict)\n",
    "print(f\"Predicted inflation for {month_to_predict}/{year_to_predict}: {predicted_inflation:.2f}%\")\n"
   ]
  }
 ],
 "metadata": {
  "kernelspec": {
   "display_name": "base",
   "language": "python",
   "name": "python3"
  },
  "language_info": {
   "codemirror_mode": {
    "name": "ipython",
    "version": 3
   },
   "file_extension": ".py",
   "mimetype": "text/x-python",
   "name": "python",
   "nbconvert_exporter": "python",
   "pygments_lexer": "ipython3",
   "version": "3.11.5"
  }
 },
 "nbformat": 4,
 "nbformat_minor": 2
}
